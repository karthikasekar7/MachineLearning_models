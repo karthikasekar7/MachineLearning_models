{
 "cells": [
  {
   "cell_type": "code",
   "execution_count": 1,
   "metadata": {},
   "outputs": [],
   "source": [
    "import numpy as np\n",
    "import pandas as pd\n",
    "import matplotlib.pyplot as plt\n",
    "import seaborn as sns"
   ]
  },
  {
   "cell_type": "code",
   "execution_count": 2,
   "metadata": {},
   "outputs": [],
   "source": [
    "travel = pd.read_csv(\"Traveldata_train.csv\");\n",
    "survey = pd.read_csv(\"Surveydata_train.csv\");"
   ]
  },
  {
   "cell_type": "code",
   "execution_count": 3,
   "metadata": {},
   "outputs": [
    {
     "data": {
      "text/html": [
       "<div>\n",
       "<style scoped>\n",
       "    .dataframe tbody tr th:only-of-type {\n",
       "        vertical-align: middle;\n",
       "    }\n",
       "\n",
       "    .dataframe tbody tr th {\n",
       "        vertical-align: top;\n",
       "    }\n",
       "\n",
       "    .dataframe thead th {\n",
       "        text-align: right;\n",
       "    }\n",
       "</style>\n",
       "<table border=\"1\" class=\"dataframe\">\n",
       "  <thead>\n",
       "    <tr style=\"text-align: right;\">\n",
       "      <th></th>\n",
       "      <th>ID</th>\n",
       "      <th>Gender</th>\n",
       "      <th>CustomerType</th>\n",
       "      <th>Age</th>\n",
       "      <th>TypeTravel</th>\n",
       "      <th>Travel_Class</th>\n",
       "      <th>Travel_Distance</th>\n",
       "      <th>DepartureDelay_in_Mins</th>\n",
       "      <th>ArrivalDelay_in_Mins</th>\n",
       "    </tr>\n",
       "  </thead>\n",
       "  <tbody>\n",
       "    <tr>\n",
       "      <th>0</th>\n",
       "      <td>2100001</td>\n",
       "      <td>Female</td>\n",
       "      <td>Loyal Customer</td>\n",
       "      <td>52.0</td>\n",
       "      <td>NaN</td>\n",
       "      <td>Business</td>\n",
       "      <td>272</td>\n",
       "      <td>0.0</td>\n",
       "      <td>5.0</td>\n",
       "    </tr>\n",
       "    <tr>\n",
       "      <th>1</th>\n",
       "      <td>2100002</td>\n",
       "      <td>Male</td>\n",
       "      <td>Loyal Customer</td>\n",
       "      <td>48.0</td>\n",
       "      <td>Personal Travel</td>\n",
       "      <td>Eco</td>\n",
       "      <td>2200</td>\n",
       "      <td>9.0</td>\n",
       "      <td>0.0</td>\n",
       "    </tr>\n",
       "    <tr>\n",
       "      <th>2</th>\n",
       "      <td>2100003</td>\n",
       "      <td>Female</td>\n",
       "      <td>Loyal Customer</td>\n",
       "      <td>43.0</td>\n",
       "      <td>Business travel</td>\n",
       "      <td>Business</td>\n",
       "      <td>1061</td>\n",
       "      <td>77.0</td>\n",
       "      <td>119.0</td>\n",
       "    </tr>\n",
       "    <tr>\n",
       "      <th>3</th>\n",
       "      <td>2100004</td>\n",
       "      <td>Female</td>\n",
       "      <td>Loyal Customer</td>\n",
       "      <td>44.0</td>\n",
       "      <td>Business travel</td>\n",
       "      <td>Business</td>\n",
       "      <td>780</td>\n",
       "      <td>13.0</td>\n",
       "      <td>18.0</td>\n",
       "    </tr>\n",
       "    <tr>\n",
       "      <th>4</th>\n",
       "      <td>2100005</td>\n",
       "      <td>Female</td>\n",
       "      <td>Loyal Customer</td>\n",
       "      <td>50.0</td>\n",
       "      <td>Business travel</td>\n",
       "      <td>Business</td>\n",
       "      <td>1981</td>\n",
       "      <td>0.0</td>\n",
       "      <td>0.0</td>\n",
       "    </tr>\n",
       "  </tbody>\n",
       "</table>\n",
       "</div>"
      ],
      "text/plain": [
       "        ID  Gender    CustomerType   Age       TypeTravel Travel_Class  \\\n",
       "0  2100001  Female  Loyal Customer  52.0              NaN     Business   \n",
       "1  2100002    Male  Loyal Customer  48.0  Personal Travel          Eco   \n",
       "2  2100003  Female  Loyal Customer  43.0  Business travel     Business   \n",
       "3  2100004  Female  Loyal Customer  44.0  Business travel     Business   \n",
       "4  2100005  Female  Loyal Customer  50.0  Business travel     Business   \n",
       "\n",
       "   Travel_Distance  DepartureDelay_in_Mins  ArrivalDelay_in_Mins  \n",
       "0              272                     0.0                   5.0  \n",
       "1             2200                     9.0                   0.0  \n",
       "2             1061                    77.0                 119.0  \n",
       "3              780                    13.0                  18.0  \n",
       "4             1981                     0.0                   0.0  "
      ]
     },
     "execution_count": 3,
     "metadata": {},
     "output_type": "execute_result"
    }
   ],
   "source": [
    "travel.head()"
   ]
  },
  {
   "cell_type": "code",
   "execution_count": 4,
   "metadata": {},
   "outputs": [],
   "source": [
    "shinkansen = pd.merge(travel,survey,on='ID')"
   ]
  },
  {
   "cell_type": "code",
   "execution_count": 5,
   "metadata": {},
   "outputs": [
    {
     "data": {
      "text/html": [
       "<div>\n",
       "<style scoped>\n",
       "    .dataframe tbody tr th:only-of-type {\n",
       "        vertical-align: middle;\n",
       "    }\n",
       "\n",
       "    .dataframe tbody tr th {\n",
       "        vertical-align: top;\n",
       "    }\n",
       "\n",
       "    .dataframe thead th {\n",
       "        text-align: right;\n",
       "    }\n",
       "</style>\n",
       "<table border=\"1\" class=\"dataframe\">\n",
       "  <thead>\n",
       "    <tr style=\"text-align: right;\">\n",
       "      <th></th>\n",
       "      <th>ID</th>\n",
       "      <th>Gender</th>\n",
       "      <th>CustomerType</th>\n",
       "      <th>Age</th>\n",
       "      <th>TypeTravel</th>\n",
       "      <th>Travel_Class</th>\n",
       "      <th>Travel_Distance</th>\n",
       "      <th>DepartureDelay_in_Mins</th>\n",
       "      <th>ArrivalDelay_in_Mins</th>\n",
       "      <th>Overall_Experience</th>\n",
       "      <th>...</th>\n",
       "      <th>Onboardwifi_service</th>\n",
       "      <th>Onboard_entertainment</th>\n",
       "      <th>Online_support</th>\n",
       "      <th>Onlinebooking_Ease</th>\n",
       "      <th>Onboard_service</th>\n",
       "      <th>Leg_room</th>\n",
       "      <th>Baggage_handling</th>\n",
       "      <th>Checkin_service</th>\n",
       "      <th>Cleanliness</th>\n",
       "      <th>Online_boarding</th>\n",
       "    </tr>\n",
       "  </thead>\n",
       "  <tbody>\n",
       "    <tr>\n",
       "      <th>0</th>\n",
       "      <td>2100001</td>\n",
       "      <td>Female</td>\n",
       "      <td>Loyal Customer</td>\n",
       "      <td>52.0</td>\n",
       "      <td>NaN</td>\n",
       "      <td>Business</td>\n",
       "      <td>272</td>\n",
       "      <td>0.0</td>\n",
       "      <td>5.0</td>\n",
       "      <td>0</td>\n",
       "      <td>...</td>\n",
       "      <td>good</td>\n",
       "      <td>need improvement</td>\n",
       "      <td>acceptable</td>\n",
       "      <td>need improvement</td>\n",
       "      <td>need improvement</td>\n",
       "      <td>acceptable</td>\n",
       "      <td>need improvement</td>\n",
       "      <td>good</td>\n",
       "      <td>need improvement</td>\n",
       "      <td>poor</td>\n",
       "    </tr>\n",
       "    <tr>\n",
       "      <th>1</th>\n",
       "      <td>2100002</td>\n",
       "      <td>Male</td>\n",
       "      <td>Loyal Customer</td>\n",
       "      <td>48.0</td>\n",
       "      <td>Personal Travel</td>\n",
       "      <td>Eco</td>\n",
       "      <td>2200</td>\n",
       "      <td>9.0</td>\n",
       "      <td>0.0</td>\n",
       "      <td>0</td>\n",
       "      <td>...</td>\n",
       "      <td>good</td>\n",
       "      <td>poor</td>\n",
       "      <td>good</td>\n",
       "      <td>good</td>\n",
       "      <td>excellent</td>\n",
       "      <td>need improvement</td>\n",
       "      <td>poor</td>\n",
       "      <td>need improvement</td>\n",
       "      <td>good</td>\n",
       "      <td>good</td>\n",
       "    </tr>\n",
       "    <tr>\n",
       "      <th>2</th>\n",
       "      <td>2100003</td>\n",
       "      <td>Female</td>\n",
       "      <td>Loyal Customer</td>\n",
       "      <td>43.0</td>\n",
       "      <td>Business travel</td>\n",
       "      <td>Business</td>\n",
       "      <td>1061</td>\n",
       "      <td>77.0</td>\n",
       "      <td>119.0</td>\n",
       "      <td>1</td>\n",
       "      <td>...</td>\n",
       "      <td>need improvement</td>\n",
       "      <td>good</td>\n",
       "      <td>excellent</td>\n",
       "      <td>excellent</td>\n",
       "      <td>excellent</td>\n",
       "      <td>excellent</td>\n",
       "      <td>excellent</td>\n",
       "      <td>good</td>\n",
       "      <td>excellent</td>\n",
       "      <td>excellent</td>\n",
       "    </tr>\n",
       "    <tr>\n",
       "      <th>3</th>\n",
       "      <td>2100004</td>\n",
       "      <td>Female</td>\n",
       "      <td>Loyal Customer</td>\n",
       "      <td>44.0</td>\n",
       "      <td>Business travel</td>\n",
       "      <td>Business</td>\n",
       "      <td>780</td>\n",
       "      <td>13.0</td>\n",
       "      <td>18.0</td>\n",
       "      <td>0</td>\n",
       "      <td>...</td>\n",
       "      <td>acceptable</td>\n",
       "      <td>need improvement</td>\n",
       "      <td>acceptable</td>\n",
       "      <td>acceptable</td>\n",
       "      <td>acceptable</td>\n",
       "      <td>acceptable</td>\n",
       "      <td>acceptable</td>\n",
       "      <td>good</td>\n",
       "      <td>acceptable</td>\n",
       "      <td>acceptable</td>\n",
       "    </tr>\n",
       "    <tr>\n",
       "      <th>4</th>\n",
       "      <td>2100005</td>\n",
       "      <td>Female</td>\n",
       "      <td>Loyal Customer</td>\n",
       "      <td>50.0</td>\n",
       "      <td>Business travel</td>\n",
       "      <td>Business</td>\n",
       "      <td>1981</td>\n",
       "      <td>0.0</td>\n",
       "      <td>0.0</td>\n",
       "      <td>1</td>\n",
       "      <td>...</td>\n",
       "      <td>need improvement</td>\n",
       "      <td>good</td>\n",
       "      <td>excellent</td>\n",
       "      <td>good</td>\n",
       "      <td>good</td>\n",
       "      <td>good</td>\n",
       "      <td>good</td>\n",
       "      <td>good</td>\n",
       "      <td>good</td>\n",
       "      <td>good</td>\n",
       "    </tr>\n",
       "  </tbody>\n",
       "</table>\n",
       "<p>5 rows × 25 columns</p>\n",
       "</div>"
      ],
      "text/plain": [
       "        ID  Gender    CustomerType   Age       TypeTravel Travel_Class  \\\n",
       "0  2100001  Female  Loyal Customer  52.0              NaN     Business   \n",
       "1  2100002    Male  Loyal Customer  48.0  Personal Travel          Eco   \n",
       "2  2100003  Female  Loyal Customer  43.0  Business travel     Business   \n",
       "3  2100004  Female  Loyal Customer  44.0  Business travel     Business   \n",
       "4  2100005  Female  Loyal Customer  50.0  Business travel     Business   \n",
       "\n",
       "   Travel_Distance  DepartureDelay_in_Mins  ArrivalDelay_in_Mins  \\\n",
       "0              272                     0.0                   5.0   \n",
       "1             2200                     9.0                   0.0   \n",
       "2             1061                    77.0                 119.0   \n",
       "3              780                    13.0                  18.0   \n",
       "4             1981                     0.0                   0.0   \n",
       "\n",
       "   Overall_Experience  ... Onboardwifi_service Onboard_entertainment  \\\n",
       "0                   0  ...                good      need improvement   \n",
       "1                   0  ...                good                  poor   \n",
       "2                   1  ...    need improvement                  good   \n",
       "3                   0  ...          acceptable      need improvement   \n",
       "4                   1  ...    need improvement                  good   \n",
       "\n",
       "  Online_support Onlinebooking_Ease   Onboard_service          Leg_room  \\\n",
       "0     acceptable   need improvement  need improvement        acceptable   \n",
       "1           good               good         excellent  need improvement   \n",
       "2      excellent          excellent         excellent         excellent   \n",
       "3     acceptable         acceptable        acceptable        acceptable   \n",
       "4      excellent               good              good              good   \n",
       "\n",
       "   Baggage_handling   Checkin_service       Cleanliness Online_boarding  \n",
       "0  need improvement              good  need improvement            poor  \n",
       "1              poor  need improvement              good            good  \n",
       "2         excellent              good         excellent       excellent  \n",
       "3        acceptable              good        acceptable      acceptable  \n",
       "4              good              good              good            good  \n",
       "\n",
       "[5 rows x 25 columns]"
      ]
     },
     "execution_count": 5,
     "metadata": {},
     "output_type": "execute_result"
    }
   ],
   "source": [
    "shinkansen.head()"
   ]
  },
  {
   "cell_type": "code",
   "execution_count": 6,
   "metadata": {},
   "outputs": [
    {
     "data": {
      "text/plain": [
       "ID                            0\n",
       "Gender                       77\n",
       "CustomerType               8951\n",
       "Age                          33\n",
       "TypeTravel                 9226\n",
       "Travel_Class                  0\n",
       "Travel_Distance               0\n",
       "DepartureDelay_in_Mins       57\n",
       "ArrivalDelay_in_Mins        357\n",
       "Overall_Experience            0\n",
       "Seat_comfort                 61\n",
       "Seat_Class                    0\n",
       "Arrival_time_convenient    8930\n",
       "Catering                   8741\n",
       "Platform_location            30\n",
       "Onboardwifi_service          30\n",
       "Onboard_entertainment        18\n",
       "Online_support               91\n",
       "Onlinebooking_Ease           73\n",
       "Onboard_service            7601\n",
       "Leg_room                     90\n",
       "Baggage_handling            142\n",
       "Checkin_service              77\n",
       "Cleanliness                   6\n",
       "Online_boarding               6\n",
       "dtype: int64"
      ]
     },
     "execution_count": 6,
     "metadata": {},
     "output_type": "execute_result"
    }
   ],
   "source": [
    "shinkansen.isnull().sum()"
   ]
  },
  {
   "cell_type": "code",
   "execution_count": 7,
   "metadata": {},
   "outputs": [
    {
     "name": "stdout",
     "output_type": "stream",
     "text": [
      "<class 'pandas.core.frame.DataFrame'>\n",
      "Int64Index: 94379 entries, 0 to 94378\n",
      "Data columns (total 25 columns):\n",
      " #   Column                   Non-Null Count  Dtype  \n",
      "---  ------                   --------------  -----  \n",
      " 0   ID                       94379 non-null  int64  \n",
      " 1   Gender                   94302 non-null  object \n",
      " 2   CustomerType             85428 non-null  object \n",
      " 3   Age                      94346 non-null  float64\n",
      " 4   TypeTravel               85153 non-null  object \n",
      " 5   Travel_Class             94379 non-null  object \n",
      " 6   Travel_Distance          94379 non-null  int64  \n",
      " 7   DepartureDelay_in_Mins   94322 non-null  float64\n",
      " 8   ArrivalDelay_in_Mins     94022 non-null  float64\n",
      " 9   Overall_Experience       94379 non-null  int64  \n",
      " 10  Seat_comfort             94318 non-null  object \n",
      " 11  Seat_Class               94379 non-null  object \n",
      " 12  Arrival_time_convenient  85449 non-null  object \n",
      " 13  Catering                 85638 non-null  object \n",
      " 14  Platform_location        94349 non-null  object \n",
      " 15  Onboardwifi_service      94349 non-null  object \n",
      " 16  Onboard_entertainment    94361 non-null  object \n",
      " 17  Online_support           94288 non-null  object \n",
      " 18  Onlinebooking_Ease       94306 non-null  object \n",
      " 19  Onboard_service          86778 non-null  object \n",
      " 20  Leg_room                 94289 non-null  object \n",
      " 21  Baggage_handling         94237 non-null  object \n",
      " 22  Checkin_service          94302 non-null  object \n",
      " 23  Cleanliness              94373 non-null  object \n",
      " 24  Online_boarding          94373 non-null  object \n",
      "dtypes: float64(3), int64(3), object(19)\n",
      "memory usage: 18.7+ MB\n"
     ]
    }
   ],
   "source": [
    "shinkansen.info()"
   ]
  },
  {
   "cell_type": "code",
   "execution_count": 8,
   "metadata": {},
   "outputs": [],
   "source": [
    "df2= shinkansen.copy()"
   ]
  },
  {
   "cell_type": "code",
   "execution_count": 9,
   "metadata": {},
   "outputs": [],
   "source": [
    "df2['Gender'].fillna(str(df2['Gender'].mode()),inplace=True)\n",
    "df2['CustomerType'].fillna(str(df2['CustomerType'].mode()),inplace=True)\n",
    "df2['TypeTravel'].fillna(str(df2['TypeTravel'].mode()),inplace=True)\n",
    "df2['Seat_comfort'].fillna(str(df2['Seat_comfort'].mode()),inplace=True)\n",
    "df2['Arrival_time_convenient'].fillna(str(df2['Arrival_time_convenient'].mode()),inplace=True)\n",
    "df2['Catering'].fillna(str(df2['Catering'].mode()),inplace=True)\n",
    "df2['Platform_location'].fillna(str(df2['Platform_location'].mode()),inplace=True)\n",
    "df2['Onboardwifi_service'].fillna(str(df2['Onboardwifi_service'].mode()),inplace=True)\n",
    "df2['Onboard_entertainment'].fillna(str(df2['Onboard_entertainment'].mode()),inplace=True)\n",
    "df2['Online_support'].fillna(str(df2['Online_support'].mode()),inplace=True)\n",
    "df2['Onlinebooking_Ease'].fillna(str(df2['Onlinebooking_Ease'].mode()),inplace=True)\n",
    "df2['Onboard_service'].fillna(str(df2['Onboard_service'].mode()),inplace=True)\n",
    "df2['Leg_room'].fillna(str(df2['Leg_room'].mode()),inplace=True)\n",
    "df2['Baggage_handling'].fillna(str(df2['Baggage_handling'].mode()),inplace=True)\n",
    "df2['Checkin_service'].fillna(str(df2['Checkin_service'].mode()),inplace=True)\n",
    "df2['Cleanliness'].fillna(str(df2['Cleanliness'].mode()),inplace=True)\n",
    "df2['Online_boarding'].fillna(str(df2['Online_boarding'].mode()),inplace=True)"
   ]
  },
  {
   "cell_type": "code",
   "execution_count": 10,
   "metadata": {},
   "outputs": [],
   "source": [
    "df2['Age'].fillna(df2['Age'].mean(),inplace=True)\n",
    "df2['DepartureDelay_in_Mins'].fillna(df2['DepartureDelay_in_Mins'].mean(),inplace=True)\n",
    "df2['ArrivalDelay_in_Mins'].fillna(df2['ArrivalDelay_in_Mins'].mean(),inplace=True)"
   ]
  },
  {
   "cell_type": "code",
   "execution_count": 11,
   "metadata": {},
   "outputs": [
    {
     "data": {
      "text/plain": [
       "ID                         0\n",
       "Gender                     0\n",
       "CustomerType               0\n",
       "Age                        0\n",
       "TypeTravel                 0\n",
       "Travel_Class               0\n",
       "Travel_Distance            0\n",
       "DepartureDelay_in_Mins     0\n",
       "ArrivalDelay_in_Mins       0\n",
       "Overall_Experience         0\n",
       "Seat_comfort               0\n",
       "Seat_Class                 0\n",
       "Arrival_time_convenient    0\n",
       "Catering                   0\n",
       "Platform_location          0\n",
       "Onboardwifi_service        0\n",
       "Onboard_entertainment      0\n",
       "Online_support             0\n",
       "Onlinebooking_Ease         0\n",
       "Onboard_service            0\n",
       "Leg_room                   0\n",
       "Baggage_handling           0\n",
       "Checkin_service            0\n",
       "Cleanliness                0\n",
       "Online_boarding            0\n",
       "dtype: int64"
      ]
     },
     "execution_count": 11,
     "metadata": {},
     "output_type": "execute_result"
    }
   ],
   "source": [
    "df2.isnull().sum()"
   ]
  },
  {
   "cell_type": "code",
   "execution_count": 12,
   "metadata": {},
   "outputs": [
    {
     "name": "stdout",
     "output_type": "stream",
     "text": [
      "\n",
      "\n",
      "feature: Gender\n",
      "[Female, Male, 0    Female\\ndtype: object]\n",
      "Categories (3, object): [0    Female\\ndtype: object, Female, Male]\n",
      "[1 2 0]\n",
      "\n",
      "\n",
      "feature: CustomerType\n",
      "[Loyal Customer, disloyal Customer, 0    Loyal Customer\\ndtype: object]\n",
      "Categories (3, object): [0    Loyal Customer\\ndtype: object, Loyal Customer, disloyal Customer]\n",
      "[1 2 0]\n",
      "\n",
      "\n",
      "feature: TypeTravel\n",
      "[0    Business travel\\ndtype: object, Personal Travel, Business travel]\n",
      "Categories (3, object): [0    Business travel\\ndtype: object, Business travel, Personal Travel]\n",
      "[0 2 1]\n",
      "\n",
      "\n",
      "feature: Travel_Class\n",
      "[Business, Eco]\n",
      "Categories (2, object): [Business, Eco]\n",
      "[0 1]\n",
      "\n",
      "\n",
      "feature: Seat_comfort\n",
      "[need improvement, poor, acceptable, good, excellent, extremely poor, 0    acceptable\\ndtype: object]\n",
      "Categories (7, object): [0    acceptable\\ndtype: object, acceptable, excellent, extremely poor, good, need improvement, poor]\n",
      "[5 6 1 4 2 3 0]\n",
      "\n",
      "\n",
      "feature: Seat_Class\n",
      "[Green Car, Ordinary]\n",
      "Categories (2, object): [Green Car, Ordinary]\n",
      "[0 1]\n",
      "\n",
      "\n",
      "feature: Arrival_time_convenient\n",
      "[excellent, need improvement, acceptable, 0    good\\ndtype: object, good, poor, extremely poor]\n",
      "Categories (7, object): [0    good\\ndtype: object, acceptable, excellent, extremely poor, good, need improvement, poor]\n",
      "[2 5 1 0 4 6 3]\n",
      "\n",
      "\n",
      "feature: Catering\n",
      "[excellent, poor, need improvement, 0    acceptable\\ndtype: object, acceptable, good, extremely poor]\n",
      "Categories (7, object): [0    acceptable\\ndtype: object, acceptable, excellent, extremely poor, good, need improvement, poor]\n",
      "[2 6 5 0 1 4 3]\n",
      "\n",
      "\n",
      "feature: Platform_location\n",
      "[very convinient, need improvement, manageable, Inconvinient, Convinient, 0    manageable\\ndtype: object, very inconvinient]\n",
      "Categories (7, object): [0    manageable\\ndtype: object, Convinient, Inconvinient, manageable, need improvement, very convinient, very inconvinient]\n",
      "[5 4 3 2 1 0 6]\n",
      "\n",
      "\n",
      "feature: Onboardwifi_service\n",
      "[good, need improvement, acceptable, excellent, poor, extremely poor, 0    good\\ndtype: object]\n",
      "Categories (7, object): [0    good\\ndtype: object, acceptable, excellent, extremely poor, good, need improvement, poor]\n",
      "[4 5 1 2 6 3 0]\n",
      "\n",
      "\n",
      "feature: Onboard_entertainment\n",
      "[need improvement, poor, good, excellent, acceptable, extremely poor, 0    good\\ndtype: object]\n",
      "Categories (7, object): [0    good\\ndtype: object, acceptable, excellent, extremely poor, good, need improvement, poor]\n",
      "[5 6 4 2 1 3 0]\n",
      "\n",
      "\n",
      "feature: Online_support\n",
      "[acceptable, good, excellent, poor, 0    good\\ndtype: object, need improvement, extremely poor]\n",
      "Categories (7, object): [0    good\\ndtype: object, acceptable, excellent, extremely poor, good, need improvement, poor]\n",
      "[1 4 2 6 0 5 3]\n",
      "\n",
      "\n",
      "feature: Onlinebooking_Ease\n",
      "[need improvement, good, excellent, acceptable, poor, 0    good\\ndtype: object, extremely poor]\n",
      "Categories (7, object): [0    good\\ndtype: object, acceptable, excellent, extremely poor, good, need improvement, poor]\n",
      "[5 4 2 1 6 0 3]\n",
      "\n",
      "\n",
      "feature: Onboard_service\n",
      "[need improvement, excellent, acceptable, good, poor, 0    good\\ndtype: object, extremely poor]\n",
      "Categories (7, object): [0    good\\ndtype: object, acceptable, excellent, extremely poor, good, need improvement, poor]\n",
      "[5 2 1 4 6 0 3]\n",
      "\n",
      "\n",
      "feature: Leg_room\n",
      "[acceptable, need improvement, excellent, good, poor, extremely poor, 0    good\\ndtype: object]\n",
      "Categories (7, object): [0    good\\ndtype: object, acceptable, excellent, extremely poor, good, need improvement, poor]\n",
      "[1 5 2 4 6 3 0]\n",
      "\n",
      "\n",
      "feature: Baggage_handling\n",
      "[need improvement, poor, excellent, acceptable, good, 0    good\\ndtype: object]\n",
      "Categories (6, object): [0    good\\ndtype: object, acceptable, excellent, good, need improvement, poor]\n",
      "[4 5 2 1 3 0]\n",
      "\n",
      "\n",
      "feature: Checkin_service\n",
      "[good, need improvement, acceptable, excellent, poor, 0    good\\ndtype: object, extremely poor]\n",
      "Categories (7, object): [0    good\\ndtype: object, acceptable, excellent, extremely poor, good, need improvement, poor]\n",
      "[4 5 1 2 6 0 3]\n",
      "\n",
      "\n",
      "feature: Cleanliness\n",
      "[need improvement, good, excellent, acceptable, poor, extremely poor, 0    good\\ndtype: object]\n",
      "Categories (7, object): [0    good\\ndtype: object, acceptable, excellent, extremely poor, good, need improvement, poor]\n",
      "[5 4 2 1 6 3 0]\n",
      "\n",
      "\n",
      "feature: Online_boarding\n",
      "[poor, good, excellent, acceptable, need improvement, 0    good\\ndtype: object, extremely poor]\n",
      "Categories (7, object): [0    good\\ndtype: object, acceptable, excellent, extremely poor, good, need improvement, poor]\n",
      "[6 4 2 1 5 0 3]\n"
     ]
    }
   ],
   "source": [
    "for feature in df2.columns: \n",
    "    if df2[feature].dtype == 'object': \n",
    "        print('\\n')\n",
    "        print('feature:',feature)\n",
    "        print(pd.Categorical(df2[feature].unique()))\n",
    "        print(pd.Categorical(df2[feature].unique()).codes)\n",
    "        df2[feature] = pd.Categorical(df2[feature]).codes"
   ]
  },
  {
   "cell_type": "code",
   "execution_count": 13,
   "metadata": {},
   "outputs": [
    {
     "data": {
      "text/html": [
       "<div>\n",
       "<style scoped>\n",
       "    .dataframe tbody tr th:only-of-type {\n",
       "        vertical-align: middle;\n",
       "    }\n",
       "\n",
       "    .dataframe tbody tr th {\n",
       "        vertical-align: top;\n",
       "    }\n",
       "\n",
       "    .dataframe thead th {\n",
       "        text-align: right;\n",
       "    }\n",
       "</style>\n",
       "<table border=\"1\" class=\"dataframe\">\n",
       "  <thead>\n",
       "    <tr style=\"text-align: right;\">\n",
       "      <th></th>\n",
       "      <th>ID</th>\n",
       "      <th>Gender</th>\n",
       "      <th>CustomerType</th>\n",
       "      <th>Age</th>\n",
       "      <th>TypeTravel</th>\n",
       "      <th>Travel_Class</th>\n",
       "      <th>Travel_Distance</th>\n",
       "      <th>DepartureDelay_in_Mins</th>\n",
       "      <th>ArrivalDelay_in_Mins</th>\n",
       "      <th>Overall_Experience</th>\n",
       "      <th>...</th>\n",
       "      <th>Onboardwifi_service</th>\n",
       "      <th>Onboard_entertainment</th>\n",
       "      <th>Online_support</th>\n",
       "      <th>Onlinebooking_Ease</th>\n",
       "      <th>Onboard_service</th>\n",
       "      <th>Leg_room</th>\n",
       "      <th>Baggage_handling</th>\n",
       "      <th>Checkin_service</th>\n",
       "      <th>Cleanliness</th>\n",
       "      <th>Online_boarding</th>\n",
       "    </tr>\n",
       "  </thead>\n",
       "  <tbody>\n",
       "    <tr>\n",
       "      <th>0</th>\n",
       "      <td>2100001</td>\n",
       "      <td>1</td>\n",
       "      <td>1</td>\n",
       "      <td>52.0</td>\n",
       "      <td>0</td>\n",
       "      <td>0</td>\n",
       "      <td>272</td>\n",
       "      <td>0.0</td>\n",
       "      <td>5.0</td>\n",
       "      <td>0</td>\n",
       "      <td>...</td>\n",
       "      <td>4</td>\n",
       "      <td>5</td>\n",
       "      <td>1</td>\n",
       "      <td>5</td>\n",
       "      <td>5</td>\n",
       "      <td>1</td>\n",
       "      <td>4</td>\n",
       "      <td>4</td>\n",
       "      <td>5</td>\n",
       "      <td>6</td>\n",
       "    </tr>\n",
       "    <tr>\n",
       "      <th>1</th>\n",
       "      <td>2100002</td>\n",
       "      <td>2</td>\n",
       "      <td>1</td>\n",
       "      <td>48.0</td>\n",
       "      <td>2</td>\n",
       "      <td>1</td>\n",
       "      <td>2200</td>\n",
       "      <td>9.0</td>\n",
       "      <td>0.0</td>\n",
       "      <td>0</td>\n",
       "      <td>...</td>\n",
       "      <td>4</td>\n",
       "      <td>6</td>\n",
       "      <td>4</td>\n",
       "      <td>4</td>\n",
       "      <td>2</td>\n",
       "      <td>5</td>\n",
       "      <td>5</td>\n",
       "      <td>5</td>\n",
       "      <td>4</td>\n",
       "      <td>4</td>\n",
       "    </tr>\n",
       "    <tr>\n",
       "      <th>2</th>\n",
       "      <td>2100003</td>\n",
       "      <td>1</td>\n",
       "      <td>1</td>\n",
       "      <td>43.0</td>\n",
       "      <td>1</td>\n",
       "      <td>0</td>\n",
       "      <td>1061</td>\n",
       "      <td>77.0</td>\n",
       "      <td>119.0</td>\n",
       "      <td>1</td>\n",
       "      <td>...</td>\n",
       "      <td>5</td>\n",
       "      <td>4</td>\n",
       "      <td>2</td>\n",
       "      <td>2</td>\n",
       "      <td>2</td>\n",
       "      <td>2</td>\n",
       "      <td>2</td>\n",
       "      <td>4</td>\n",
       "      <td>2</td>\n",
       "      <td>2</td>\n",
       "    </tr>\n",
       "    <tr>\n",
       "      <th>3</th>\n",
       "      <td>2100004</td>\n",
       "      <td>1</td>\n",
       "      <td>1</td>\n",
       "      <td>44.0</td>\n",
       "      <td>1</td>\n",
       "      <td>0</td>\n",
       "      <td>780</td>\n",
       "      <td>13.0</td>\n",
       "      <td>18.0</td>\n",
       "      <td>0</td>\n",
       "      <td>...</td>\n",
       "      <td>1</td>\n",
       "      <td>5</td>\n",
       "      <td>1</td>\n",
       "      <td>1</td>\n",
       "      <td>1</td>\n",
       "      <td>1</td>\n",
       "      <td>1</td>\n",
       "      <td>4</td>\n",
       "      <td>1</td>\n",
       "      <td>1</td>\n",
       "    </tr>\n",
       "    <tr>\n",
       "      <th>4</th>\n",
       "      <td>2100005</td>\n",
       "      <td>1</td>\n",
       "      <td>1</td>\n",
       "      <td>50.0</td>\n",
       "      <td>1</td>\n",
       "      <td>0</td>\n",
       "      <td>1981</td>\n",
       "      <td>0.0</td>\n",
       "      <td>0.0</td>\n",
       "      <td>1</td>\n",
       "      <td>...</td>\n",
       "      <td>5</td>\n",
       "      <td>4</td>\n",
       "      <td>2</td>\n",
       "      <td>4</td>\n",
       "      <td>4</td>\n",
       "      <td>4</td>\n",
       "      <td>3</td>\n",
       "      <td>4</td>\n",
       "      <td>4</td>\n",
       "      <td>4</td>\n",
       "    </tr>\n",
       "  </tbody>\n",
       "</table>\n",
       "<p>5 rows × 25 columns</p>\n",
       "</div>"
      ],
      "text/plain": [
       "        ID  Gender  CustomerType   Age  TypeTravel  Travel_Class  \\\n",
       "0  2100001       1             1  52.0           0             0   \n",
       "1  2100002       2             1  48.0           2             1   \n",
       "2  2100003       1             1  43.0           1             0   \n",
       "3  2100004       1             1  44.0           1             0   \n",
       "4  2100005       1             1  50.0           1             0   \n",
       "\n",
       "   Travel_Distance  DepartureDelay_in_Mins  ArrivalDelay_in_Mins  \\\n",
       "0              272                     0.0                   5.0   \n",
       "1             2200                     9.0                   0.0   \n",
       "2             1061                    77.0                 119.0   \n",
       "3              780                    13.0                  18.0   \n",
       "4             1981                     0.0                   0.0   \n",
       "\n",
       "   Overall_Experience  ...  Onboardwifi_service  Onboard_entertainment  \\\n",
       "0                   0  ...                    4                      5   \n",
       "1                   0  ...                    4                      6   \n",
       "2                   1  ...                    5                      4   \n",
       "3                   0  ...                    1                      5   \n",
       "4                   1  ...                    5                      4   \n",
       "\n",
       "   Online_support  Onlinebooking_Ease  Onboard_service  Leg_room  \\\n",
       "0               1                   5                5         1   \n",
       "1               4                   4                2         5   \n",
       "2               2                   2                2         2   \n",
       "3               1                   1                1         1   \n",
       "4               2                   4                4         4   \n",
       "\n",
       "   Baggage_handling  Checkin_service  Cleanliness  Online_boarding  \n",
       "0                 4                4            5                6  \n",
       "1                 5                5            4                4  \n",
       "2                 2                4            2                2  \n",
       "3                 1                4            1                1  \n",
       "4                 3                4            4                4  \n",
       "\n",
       "[5 rows x 25 columns]"
      ]
     },
     "execution_count": 13,
     "metadata": {},
     "output_type": "execute_result"
    }
   ],
   "source": [
    "df2.head()"
   ]
  },
  {
   "cell_type": "code",
   "execution_count": 14,
   "metadata": {},
   "outputs": [],
   "source": [
    "from scipy.stats import zscore"
   ]
  },
  {
   "cell_type": "code",
   "execution_count": 15,
   "metadata": {},
   "outputs": [],
   "source": [
    "xtrain = df2.drop(['ID','Overall_Experience'], axis =1)\n",
    "ytrain = df2['Overall_Experience']"
   ]
  },
  {
   "cell_type": "code",
   "execution_count": 16,
   "metadata": {},
   "outputs": [
    {
     "data": {
      "text/plain": [
       "1    0.546658\n",
       "0    0.453342\n",
       "Name: Overall_Experience, dtype: float64"
      ]
     },
     "execution_count": 16,
     "metadata": {},
     "output_type": "execute_result"
    }
   ],
   "source": [
    "ytrain.value_counts(1)"
   ]
  },
  {
   "cell_type": "code",
   "execution_count": 17,
   "metadata": {},
   "outputs": [],
   "source": [
    "xtrain=xtrain.apply(zscore)"
   ]
  },
  {
   "cell_type": "code",
   "execution_count": null,
   "metadata": {},
   "outputs": [],
   "source": [
    "from sklearn.model_selection import train_test_split,GridSearchCV\n",
    "from sklearn.linear_model import LogisticRegression\n",
    "from sklearn import metrics\n",
    "from sklearn.metrics import roc_auc_score,roc_curve,classification_report,confusion_matrix,plot_confusion_matrix"
   ]
  },
  {
   "cell_type": "code",
   "execution_count": null,
   "metadata": {},
   "outputs": [],
   "source": [
    "model3 = LogisticRegression(solver='newton-cg',max_iter=10000,penalty='none',verbose=True,n_jobs=2)\n",
    "model3.fit(xtrain, ytrain)"
   ]
  },
  {
   "cell_type": "code",
   "execution_count": 18,
   "metadata": {},
   "outputs": [],
   "source": [
    "travel1 = pd.read_csv(\"Traveldata_test.csv\");\n",
    "survey1 = pd.read_csv(\"Surveydata_test.csv\");\n",
    "shinkansen_test = pd.merge(travel1,survey1,on='ID')\n",
    "df3 = shinkansen_test.copy()"
   ]
  },
  {
   "cell_type": "code",
   "execution_count": 19,
   "metadata": {},
   "outputs": [
    {
     "data": {
      "text/plain": [
       "ID                            0\n",
       "Gender                       30\n",
       "CustomerType               3383\n",
       "Age                          11\n",
       "TypeTravel                 3448\n",
       "Travel_Class                  0\n",
       "Travel_Distance               0\n",
       "DepartureDelay_in_Mins       29\n",
       "ArrivalDelay_in_Mins        123\n",
       "Seat_comfort                 22\n",
       "Seat_Class                    0\n",
       "Arrival_time_convenient    3325\n",
       "Catering                   3357\n",
       "Platform_location            12\n",
       "Onboardwifi_service          12\n",
       "Onboard_entertainment         8\n",
       "Online_support               26\n",
       "Onlinebooking_Ease           18\n",
       "Onboard_service            2872\n",
       "Leg_room                     25\n",
       "Baggage_handling             40\n",
       "Checkin_service              22\n",
       "Cleanliness                   2\n",
       "Online_boarding               2\n",
       "dtype: int64"
      ]
     },
     "execution_count": 19,
     "metadata": {},
     "output_type": "execute_result"
    }
   ],
   "source": [
    "df3.isnull().sum()"
   ]
  },
  {
   "cell_type": "code",
   "execution_count": 20,
   "metadata": {},
   "outputs": [],
   "source": [
    "df3['Gender'].fillna(str(df3['Gender'].mode()),inplace=True)\n",
    "df3['CustomerType'].fillna(str(df3['CustomerType'].mode()),inplace=True)\n",
    "df3['TypeTravel'].fillna(str(df3['TypeTravel'].mode()),inplace=True)\n",
    "df3['Seat_comfort'].fillna(str(df3['Seat_comfort'].mode()),inplace=True)\n",
    "df3['Arrival_time_convenient'].fillna(str(df3['Arrival_time_convenient'].mode()),inplace=True)\n",
    "df3['Catering'].fillna(str(df3['Catering'].mode()),inplace=True)\n",
    "df3['Platform_location'].fillna(str(df3['Platform_location'].mode()),inplace=True)\n",
    "df3['Onboardwifi_service'].fillna(str(df3['Onboardwifi_service'].mode()),inplace=True)\n",
    "df3['Onboard_entertainment'].fillna(str(df3['Onboard_entertainment'].mode()),inplace=True)\n",
    "df3['Online_support'].fillna(str(df3['Online_support'].mode()),inplace=True)\n",
    "df3['Onlinebooking_Ease'].fillna(str(df3['Onlinebooking_Ease'].mode()),inplace=True)\n",
    "df3['Onboard_service'].fillna(str(df3['Onboard_service'].mode()),inplace=True)\n",
    "df3['Leg_room'].fillna(str(df3['Leg_room'].mode()),inplace=True)\n",
    "df3['Baggage_handling'].fillna(str(df3['Baggage_handling'].mode()),inplace=True)\n",
    "df3['Checkin_service'].fillna(str(df3['Checkin_service'].mode()),inplace=True)\n",
    "df3['Cleanliness'].fillna(str(df3['Cleanliness'].mode()),inplace=True)\n",
    "df3['Online_boarding'].fillna(str(df3['Online_boarding'].mode()),inplace=True)"
   ]
  },
  {
   "cell_type": "code",
   "execution_count": 21,
   "metadata": {},
   "outputs": [],
   "source": [
    "df3['Age'].fillna(df3['Age'].mean(),inplace=True)\n",
    "df3['DepartureDelay_in_Mins'].fillna(df3['DepartureDelay_in_Mins'].mean(),inplace=True)\n",
    "df3['ArrivalDelay_in_Mins'].fillna(df3['ArrivalDelay_in_Mins'].mean(),inplace=True)"
   ]
  },
  {
   "cell_type": "code",
   "execution_count": 22,
   "metadata": {},
   "outputs": [
    {
     "data": {
      "text/plain": [
       "ID                         0\n",
       "Gender                     0\n",
       "CustomerType               0\n",
       "Age                        0\n",
       "TypeTravel                 0\n",
       "Travel_Class               0\n",
       "Travel_Distance            0\n",
       "DepartureDelay_in_Mins     0\n",
       "ArrivalDelay_in_Mins       0\n",
       "Seat_comfort               0\n",
       "Seat_Class                 0\n",
       "Arrival_time_convenient    0\n",
       "Catering                   0\n",
       "Platform_location          0\n",
       "Onboardwifi_service        0\n",
       "Onboard_entertainment      0\n",
       "Online_support             0\n",
       "Onlinebooking_Ease         0\n",
       "Onboard_service            0\n",
       "Leg_room                   0\n",
       "Baggage_handling           0\n",
       "Checkin_service            0\n",
       "Cleanliness                0\n",
       "Online_boarding            0\n",
       "dtype: int64"
      ]
     },
     "execution_count": 22,
     "metadata": {},
     "output_type": "execute_result"
    }
   ],
   "source": [
    "df3.isnull().sum()"
   ]
  },
  {
   "cell_type": "code",
   "execution_count": 23,
   "metadata": {},
   "outputs": [
    {
     "name": "stdout",
     "output_type": "stream",
     "text": [
      "\n",
      "\n",
      "feature: Gender\n",
      "[Female, Male, 0    Female\\ndtype: object]\n",
      "Categories (3, object): [0    Female\\ndtype: object, Female, Male]\n",
      "[1 2 0]\n",
      "\n",
      "\n",
      "feature: CustomerType\n",
      "[0    Loyal Customer\\ndtype: object, disloyal Customer, Loyal Customer]\n",
      "Categories (3, object): [0    Loyal Customer\\ndtype: object, Loyal Customer, disloyal Customer]\n",
      "[0 2 1]\n",
      "\n",
      "\n",
      "feature: TypeTravel\n",
      "[Business travel, Personal Travel, 0    Business travel\\ndtype: object]\n",
      "Categories (3, object): [0    Business travel\\ndtype: object, Business travel, Personal Travel]\n",
      "[1 2 0]\n",
      "\n",
      "\n",
      "feature: Travel_Class\n",
      "[Business, Eco]\n",
      "Categories (2, object): [Business, Eco]\n",
      "[0 1]\n",
      "\n",
      "\n",
      "feature: Seat_comfort\n",
      "[acceptable, extremely poor, excellent, poor, need improvement, good, 0    acceptable\\ndtype: object]\n",
      "Categories (7, object): [0    acceptable\\ndtype: object, acceptable, excellent, extremely poor, good, need improvement, poor]\n",
      "[1 3 2 6 5 4 0]\n",
      "\n",
      "\n",
      "feature: Seat_Class\n",
      "[Green Car, Ordinary]\n",
      "Categories (2, object): [Green Car, Ordinary]\n",
      "[0 1]\n",
      "\n",
      "\n",
      "feature: Arrival_time_convenient\n",
      "[acceptable, good, excellent, extremely poor, 0    good\\ndtype: object, need improvement, poor]\n",
      "Categories (7, object): [0    good\\ndtype: object, acceptable, excellent, extremely poor, good, need improvement, poor]\n",
      "[1 4 2 3 0 5 6]\n",
      "\n",
      "\n",
      "feature: Catering\n",
      "[acceptable, poor, excellent, need improvement, good, 0    acceptable\\ndtype: object, extremely poor]\n",
      "Categories (7, object): [0    acceptable\\ndtype: object, acceptable, excellent, extremely poor, good, need improvement, poor]\n",
      "[1 6 2 5 4 0 3]\n",
      "\n",
      "\n",
      "feature: Platform_location\n",
      "[manageable, very convinient, need improvement, Inconvinient, Convinient, 0    manageable\\ndtype: object]\n",
      "Categories (6, object): [0    manageable\\ndtype: object, Convinient, Inconvinient, manageable, need improvement, very convinient]\n",
      "[3 5 4 2 1 0]\n",
      "\n",
      "\n",
      "feature: Onboardwifi_service\n",
      "[need improvement, acceptable, excellent, poor, good, extremely poor, 0    good\\ndtype: object]\n",
      "Categories (7, object): [0    good\\ndtype: object, acceptable, excellent, extremely poor, good, need improvement, poor]\n",
      "[5 1 2 6 4 3 0]\n",
      "\n",
      "\n",
      "feature: Onboard_entertainment\n",
      "[excellent, poor, acceptable, good, need improvement, extremely poor, 0    good\\ndtype: object]\n",
      "Categories (7, object): [0    good\\ndtype: object, acceptable, excellent, extremely poor, good, need improvement, poor]\n",
      "[2 6 1 4 5 3 0]\n",
      "\n",
      "\n",
      "feature: Online_support\n",
      "[good, acceptable, excellent, need improvement, poor, 0    good\\ndtype: object]\n",
      "Categories (6, object): [0    good\\ndtype: object, acceptable, excellent, good, need improvement, poor]\n",
      "[3 1 2 4 5 0]\n",
      "\n",
      "\n",
      "feature: Onlinebooking_Ease\n",
      "[excellent, acceptable, need improvement, poor, good, 0    good\\ndtype: object, extremely poor]\n",
      "Categories (7, object): [0    good\\ndtype: object, acceptable, excellent, extremely poor, good, need improvement, poor]\n",
      "[2 1 5 6 4 0 3]\n",
      "\n",
      "\n",
      "feature: Onboard_service\n",
      "[excellent, need improvement, acceptable, 0    good\\ndtype: object, good, poor]\n",
      "Categories (6, object): [0    good\\ndtype: object, acceptable, excellent, good, need improvement, poor]\n",
      "[2 4 1 0 3 5]\n",
      "\n",
      "\n",
      "feature: Leg_room\n",
      "[excellent, acceptable, need improvement, good, poor, extremely poor, 0    good\\ndtype: object]\n",
      "Categories (7, object): [0    good\\ndtype: object, acceptable, excellent, extremely poor, good, need improvement, poor]\n",
      "[2 1 5 4 6 3 0]\n",
      "\n",
      "\n",
      "feature: Baggage_handling\n",
      "[excellent, good, need improvement, acceptable, poor, 0    good\\ndtype: object]\n",
      "Categories (6, object): [0    good\\ndtype: object, acceptable, excellent, good, need improvement, poor]\n",
      "[2 3 4 1 5 0]\n",
      "\n",
      "\n",
      "feature: Checkin_service\n",
      "[good, acceptable, excellent, need improvement, poor, 0    good\\ndtype: object]\n",
      "Categories (6, object): [0    good\\ndtype: object, acceptable, excellent, good, need improvement, poor]\n",
      "[3 1 2 4 5 0]\n",
      "\n",
      "\n",
      "feature: Cleanliness\n",
      "[excellent, need improvement, acceptable, good, poor, 0    good\\ndtype: object]\n",
      "Categories (6, object): [0    good\\ndtype: object, acceptable, excellent, good, need improvement, poor]\n",
      "[2 4 1 3 5 0]\n",
      "\n",
      "\n",
      "feature: Online_boarding\n",
      "[poor, acceptable, excellent, good, need improvement, 0    good\\ndtype: object, extremely poor]\n",
      "Categories (7, object): [0    good\\ndtype: object, acceptable, excellent, extremely poor, good, need improvement, poor]\n",
      "[6 1 2 4 5 0 3]\n"
     ]
    }
   ],
   "source": [
    "for feature in df3.columns: \n",
    "    if df3[feature].dtype == 'object': \n",
    "        print('\\n')\n",
    "        print('feature:',feature)\n",
    "        print(pd.Categorical(df3[feature].unique()))\n",
    "        print(pd.Categorical(df3[feature].unique()).codes)\n",
    "        df3[feature] = pd.Categorical(df3[feature]).codes"
   ]
  },
  {
   "cell_type": "code",
   "execution_count": 24,
   "metadata": {},
   "outputs": [],
   "source": [
    "xtest = df3.drop(['ID'], axis =1)"
   ]
  },
  {
   "cell_type": "code",
   "execution_count": null,
   "metadata": {},
   "outputs": [],
   "source": [
    "xtest = df3.drop(['ID','Overall_Experience'], axis =1)"
   ]
  },
  {
   "cell_type": "code",
   "execution_count": 25,
   "metadata": {},
   "outputs": [],
   "source": [
    "xtest=xtest.apply(zscore)"
   ]
  },
  {
   "cell_type": "code",
   "execution_count": null,
   "metadata": {},
   "outputs": [],
   "source": [
    "df3.head()"
   ]
  },
  {
   "cell_type": "code",
   "execution_count": null,
   "metadata": {},
   "outputs": [],
   "source": [
    "df3['Overall_Experience'] = model3.predict(xtest)"
   ]
  },
  {
   "cell_type": "code",
   "execution_count": null,
   "metadata": {},
   "outputs": [],
   "source": [
    "output = df3[['ID','Overall_Experience']]"
   ]
  },
  {
   "cell_type": "code",
   "execution_count": null,
   "metadata": {},
   "outputs": [],
   "source": [
    "output.to_csv(\"Model3.csv\",index=False)"
   ]
  },
  {
   "cell_type": "markdown",
   "metadata": {},
   "source": [
    "<b>LDA<b>"
   ]
  },
  {
   "cell_type": "code",
   "execution_count": null,
   "metadata": {},
   "outputs": [],
   "source": [
    "from sklearn.discriminant_analysis import LinearDiscriminantAnalysis\n",
    "from sklearn import metrics,model_selection\n",
    "from sklearn.preprocessing import scale"
   ]
  },
  {
   "cell_type": "code",
   "execution_count": null,
   "metadata": {},
   "outputs": [],
   "source": [
    "clf = LinearDiscriminantAnalysis()\n",
    "model4=clf.fit(xtrain,ytrain)"
   ]
  },
  {
   "cell_type": "code",
   "execution_count": null,
   "metadata": {},
   "outputs": [],
   "source": [
    "# Test Data Class Prediction with a cut-off value of 0.5\n",
    "df3['Overall_Experience'] = model4.predict(xtest)"
   ]
  },
  {
   "cell_type": "code",
   "execution_count": null,
   "metadata": {},
   "outputs": [],
   "source": [
    "output = df3[['ID','Overall_Experience']]\n",
    "output.to_csv(\"Model4.csv\",index=False)"
   ]
  },
  {
   "cell_type": "markdown",
   "metadata": {},
   "source": [
    "<b>Random Forest <b>"
   ]
  },
  {
   "cell_type": "code",
   "execution_count": null,
   "metadata": {},
   "outputs": [],
   "source": [
    "from sklearn.model_selection import GridSearchCV\n",
    "from sklearn.ensemble import RandomForestClassifier\n",
    "\n",
    "param_grid = {\n",
    "    'max_depth': [7, 8],\n",
    "    'max_features': [11, 12, 13],\n",
    "    'min_samples_leaf': [20, 25],\n",
    "    'min_samples_split': [60, 75],\n",
    "    'n_estimators': [101, 301]\n",
    "}\n",
    "\n",
    "rfcl = RandomForestClassifier()\n",
    "\n",
    "grid_search = GridSearchCV(estimator = rfcl, param_grid = param_grid, cv = 3)\n",
    "\n"
   ]
  },
  {
   "cell_type": "code",
   "execution_count": null,
   "metadata": {},
   "outputs": [],
   "source": [
    "grid_search.fit(xtrain, ytrain)"
   ]
  },
  {
   "cell_type": "code",
   "execution_count": null,
   "metadata": {},
   "outputs": [],
   "source": [
    "grid_search.best_params_"
   ]
  },
  {
   "cell_type": "code",
   "execution_count": null,
   "metadata": {},
   "outputs": [],
   "source": [
    "best_grid = grid_search.best_estimator_"
   ]
  },
  {
   "cell_type": "code",
   "execution_count": null,
   "metadata": {},
   "outputs": [],
   "source": [
    "df3['Overall_Experience'] = best_grid.predict(xtest)"
   ]
  },
  {
   "cell_type": "code",
   "execution_count": null,
   "metadata": {},
   "outputs": [],
   "source": [
    "output = df3[['ID','Overall_Experience']]\n",
    "output.to_csv(\"Model5.csv\",index=False)"
   ]
  },
  {
   "cell_type": "markdown",
   "metadata": {},
   "source": [
    "# Decision tree"
   ]
  },
  {
   "cell_type": "code",
   "execution_count": 27,
   "metadata": {},
   "outputs": [],
   "source": [
    "from sklearn.tree import DecisionTreeClassifier\n",
    "from sklearn.neural_network import MLPClassifier"
   ]
  },
  {
   "cell_type": "code",
   "execution_count": null,
   "metadata": {},
   "outputs": [],
   "source": [
    "dt_model = DecisionTreeClassifier(criterion = 'gini' )"
   ]
  },
  {
   "cell_type": "code",
   "execution_count": null,
   "metadata": {},
   "outputs": [],
   "source": [
    "dt_model.fit(xtrain, ytrain)"
   ]
  },
  {
   "cell_type": "code",
   "execution_count": null,
   "metadata": {},
   "outputs": [],
   "source": [
    "from sklearn import tree\n",
    "\n",
    "train_char_label = ['No', 'Yes']\n",
    "HR_Tree_File = open('d:\\hr_tree.dot','w')\n",
    "dot_data = tree.export_graphviz(dt_model, out_file=HR_Tree_File, feature_names = list(xtrain), class_names = list(ytrain))\n",
    "\n",
    "HR_Tree_File.close()"
   ]
  },
  {
   "cell_type": "code",
   "execution_count": null,
   "metadata": {},
   "outputs": [],
   "source": [
    "from sklearn.model_selection import GridSearchCV\n",
    "\n",
    "param_grid = {\n",
    "    'max_depth': [5, 7, 8, 10],\n",
    "    'min_samples_leaf': [15, 20, 25],\n",
    "    'min_samples_split': [30, 45, 60]\n",
    "}\n",
    "\n",
    "dt_model = DecisionTreeClassifier()\n",
    "\n",
    "grid_search = GridSearchCV(estimator = dt_model, param_grid = param_grid, cv = 3)"
   ]
  },
  {
   "cell_type": "code",
   "execution_count": null,
   "metadata": {},
   "outputs": [],
   "source": [
    "grid_search.fit(xtrain, ytrain)"
   ]
  },
  {
   "cell_type": "code",
   "execution_count": null,
   "metadata": {},
   "outputs": [],
   "source": [
    "grid_search.best_params_"
   ]
  },
  {
   "cell_type": "code",
   "execution_count": null,
   "metadata": {},
   "outputs": [],
   "source": [
    "best_grid = grid_search.best_estimator_"
   ]
  },
  {
   "cell_type": "code",
   "execution_count": null,
   "metadata": {},
   "outputs": [],
   "source": [
    "df3['Overall_Experience'] = best_grid.predict(xtest)"
   ]
  },
  {
   "cell_type": "code",
   "execution_count": null,
   "metadata": {},
   "outputs": [],
   "source": [
    "output = df3[['ID','Overall_Experience']]\n",
    "output.to_csv(\"Model6.csv\",index=False)"
   ]
  },
  {
   "cell_type": "markdown",
   "metadata": {},
   "source": [
    "# MLP"
   ]
  },
  {
   "cell_type": "code",
   "execution_count": null,
   "metadata": {},
   "outputs": [],
   "source": [
    "from sklearn.preprocessing import StandardScaler \n",
    "sc = StandardScaler() \n",
    "xtrain = sc.fit_transform(xtrain) \n",
    "xtest = sc.transform (xtest)"
   ]
  },
  {
   "cell_type": "code",
   "execution_count": 29,
   "metadata": {},
   "outputs": [],
   "source": [
    "from sklearn.model_selection import GridSearchCV"
   ]
  },
  {
   "cell_type": "code",
   "execution_count": 30,
   "metadata": {},
   "outputs": [],
   "source": [
    "param_grid = {\n",
    "    'hidden_layer_sizes': [(100,100,100,100)],\n",
    "    'activation': ['logistic', 'relu'],\n",
    "    'solver': ['sgd', 'adam'],\n",
    "    'tol': [0.1,0.01,0.001,0.0001],\n",
    "    'max_iter' : [10000]\n",
    "}\n",
    "\n",
    "rfcl = MLPClassifier()\n",
    "\n",
    "grid_search = GridSearchCV(estimator = rfcl, param_grid = param_grid, cv = 3)"
   ]
  },
  {
   "cell_type": "code",
   "execution_count": null,
   "metadata": {},
   "outputs": [],
   "source": [
    "grid_search.fit(xtrain, ytrain)"
   ]
  },
  {
   "cell_type": "code",
   "execution_count": null,
   "metadata": {},
   "outputs": [],
   "source": [
    "grid_search.best_params_"
   ]
  },
  {
   "cell_type": "code",
   "execution_count": null,
   "metadata": {},
   "outputs": [],
   "source": [
    "best_grid = grid_search.best_estimator_"
   ]
  },
  {
   "cell_type": "code",
   "execution_count": null,
   "metadata": {},
   "outputs": [],
   "source": [
    "df3['Overall_Experience'] = best_grid.predict(xtest)"
   ]
  },
  {
   "cell_type": "code",
   "execution_count": null,
   "metadata": {},
   "outputs": [],
   "source": [
    "output = df3[['ID','Overall_Experience']]\n",
    "output.to_csv(\"Model7.csv\",index=False)"
   ]
  },
  {
   "cell_type": "markdown",
   "metadata": {},
   "source": [
    "# KNN"
   ]
  },
  {
   "cell_type": "code",
   "execution_count": null,
   "metadata": {},
   "outputs": [],
   "source": [
    "from sklearn.neighbors import KNeighborsClassifier"
   ]
  },
  {
   "cell_type": "code",
   "execution_count": null,
   "metadata": {},
   "outputs": [],
   "source": [
    "NNH = KNeighborsClassifier(n_neighbors= 5 , weights = 'distance' )\n"
   ]
  },
  {
   "cell_type": "code",
   "execution_count": null,
   "metadata": {},
   "outputs": [],
   "source": [
    "NNH.fit(xtrain, ytrain)"
   ]
  },
  {
   "cell_type": "code",
   "execution_count": null,
   "metadata": {},
   "outputs": [],
   "source": [
    "df3['Overall_Experience'] = NNH.predict(xtest)"
   ]
  },
  {
   "cell_type": "code",
   "execution_count": null,
   "metadata": {},
   "outputs": [],
   "source": [
    "output = df3[['ID','Overall_Experience']]\n",
    "output.to_csv(\"Model8.csv\",index=False)"
   ]
  },
  {
   "cell_type": "code",
   "execution_count": null,
   "metadata": {},
   "outputs": [],
   "source": []
  }
 ],
 "metadata": {
  "kernelspec": {
   "display_name": "Python 3",
   "language": "python",
   "name": "python3"
  },
  "language_info": {
   "codemirror_mode": {
    "name": "ipython",
    "version": 3
   },
   "file_extension": ".py",
   "mimetype": "text/x-python",
   "name": "python",
   "nbconvert_exporter": "python",
   "pygments_lexer": "ipython3",
   "version": "3.8.3"
  }
 },
 "nbformat": 4,
 "nbformat_minor": 4
}
